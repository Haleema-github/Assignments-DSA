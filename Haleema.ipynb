{
 "cells": [
  {
   "cell_type": "code",
   "execution_count": 1,
   "id": "8a128807",
   "metadata": {},
   "outputs": [],
   "source": [
    "import numpy as np\n",
    "import pandas as pd\n",
    "import matplotlib.pyplot as plt\n",
    "import seaborn as sns"
   ]
  },
  {
   "cell_type": "code",
   "execution_count": 2,
   "id": "407ad74b",
   "metadata": {},
   "outputs": [],
   "source": [
    "import warnings\n",
    "warnings.filterwarnings('ignore')"
   ]
  },
  {
   "cell_type": "code",
   "execution_count": 3,
   "id": "4d682ac5",
   "metadata": {},
   "outputs": [
    {
     "data": {
      "text/html": [
       "<div>\n",
       "<style scoped>\n",
       "    .dataframe tbody tr th:only-of-type {\n",
       "        vertical-align: middle;\n",
       "    }\n",
       "\n",
       "    .dataframe tbody tr th {\n",
       "        vertical-align: top;\n",
       "    }\n",
       "\n",
       "    .dataframe thead th {\n",
       "        text-align: right;\n",
       "    }\n",
       "</style>\n",
       "<table border=\"1\" class=\"dataframe\">\n",
       "  <thead>\n",
       "    <tr style=\"text-align: right;\">\n",
       "      <th></th>\n",
       "      <th>Year</th>\n",
       "      <th>Price</th>\n",
       "    </tr>\n",
       "  </thead>\n",
       "  <tbody>\n",
       "    <tr>\n",
       "      <th>0</th>\n",
       "      <td>2018</td>\n",
       "      <td>465000</td>\n",
       "    </tr>\n",
       "    <tr>\n",
       "      <th>1</th>\n",
       "      <td>2019</td>\n",
       "      <td>755000</td>\n",
       "    </tr>\n",
       "    <tr>\n",
       "      <th>2</th>\n",
       "      <td>2019</td>\n",
       "      <td>700000</td>\n",
       "    </tr>\n",
       "    <tr>\n",
       "      <th>3</th>\n",
       "      <td>2018</td>\n",
       "      <td>465000</td>\n",
       "    </tr>\n",
       "    <tr>\n",
       "      <th>4</th>\n",
       "      <td>2018</td>\n",
       "      <td>465000</td>\n",
       "    </tr>\n",
       "    <tr>\n",
       "      <th>...</th>\n",
       "      <td>...</td>\n",
       "      <td>...</td>\n",
       "    </tr>\n",
       "    <tr>\n",
       "      <th>107</th>\n",
       "      <td>2016</td>\n",
       "      <td>375000</td>\n",
       "    </tr>\n",
       "    <tr>\n",
       "      <th>108</th>\n",
       "      <td>2014</td>\n",
       "      <td>300000</td>\n",
       "    </tr>\n",
       "    <tr>\n",
       "      <th>109</th>\n",
       "      <td>2015</td>\n",
       "      <td>425000</td>\n",
       "    </tr>\n",
       "    <tr>\n",
       "      <th>110</th>\n",
       "      <td>2016</td>\n",
       "      <td>420000</td>\n",
       "    </tr>\n",
       "    <tr>\n",
       "      <th>111</th>\n",
       "      <td>2015</td>\n",
       "      <td>425000</td>\n",
       "    </tr>\n",
       "  </tbody>\n",
       "</table>\n",
       "<p>112 rows × 2 columns</p>\n",
       "</div>"
      ],
      "text/plain": [
       "     Year   Price\n",
       "0    2018  465000\n",
       "1    2019  755000\n",
       "2    2019  700000\n",
       "3    2018  465000\n",
       "4    2018  465000\n",
       "..    ...     ...\n",
       "107  2016  375000\n",
       "108  2014  300000\n",
       "109  2015  425000\n",
       "110  2016  420000\n",
       "111  2015  425000\n",
       "\n",
       "[112 rows x 2 columns]"
      ]
     },
     "execution_count": 3,
     "metadata": {},
     "output_type": "execute_result"
    }
   ],
   "source": [
    "data=pd.read_csv(\"C:\\\\Users\\\\adilv\\\\Downloads\\\\car_age_price.csv\")\n",
    "data"
   ]
  },
  {
   "cell_type": "code",
   "execution_count": 4,
   "id": "9a69018f",
   "metadata": {},
   "outputs": [
    {
     "data": {
      "text/plain": [
       "Year     0\n",
       "Price    0\n",
       "dtype: int64"
      ]
     },
     "execution_count": 4,
     "metadata": {},
     "output_type": "execute_result"
    }
   ],
   "source": [
    "data.isnull().sum()"
   ]
  },
  {
   "cell_type": "code",
   "execution_count": 5,
   "id": "b58f52fa",
   "metadata": {},
   "outputs": [
    {
     "name": "stdout",
     "output_type": "stream",
     "text": [
      "<class 'pandas.core.frame.DataFrame'>\n",
      "RangeIndex: 112 entries, 0 to 111\n",
      "Data columns (total 2 columns):\n",
      " #   Column  Non-Null Count  Dtype\n",
      "---  ------  --------------  -----\n",
      " 0   Year    112 non-null    int64\n",
      " 1   Price   112 non-null    int64\n",
      "dtypes: int64(2)\n",
      "memory usage: 1.9 KB\n"
     ]
    }
   ],
   "source": [
    "data.info()"
   ]
  },
  {
   "cell_type": "code",
   "execution_count": 6,
   "id": "727483d9",
   "metadata": {},
   "outputs": [
    {
     "data": {
      "text/html": [
       "<div>\n",
       "<style scoped>\n",
       "    .dataframe tbody tr th:only-of-type {\n",
       "        vertical-align: middle;\n",
       "    }\n",
       "\n",
       "    .dataframe tbody tr th {\n",
       "        vertical-align: top;\n",
       "    }\n",
       "\n",
       "    .dataframe thead th {\n",
       "        text-align: right;\n",
       "    }\n",
       "</style>\n",
       "<table border=\"1\" class=\"dataframe\">\n",
       "  <thead>\n",
       "    <tr style=\"text-align: right;\">\n",
       "      <th></th>\n",
       "      <th>Year</th>\n",
       "      <th>Price</th>\n",
       "    </tr>\n",
       "  </thead>\n",
       "  <tbody>\n",
       "    <tr>\n",
       "      <th>count</th>\n",
       "      <td>112.000000</td>\n",
       "      <td>112.000000</td>\n",
       "    </tr>\n",
       "    <tr>\n",
       "      <th>mean</th>\n",
       "      <td>2016.669643</td>\n",
       "      <td>483866.044643</td>\n",
       "    </tr>\n",
       "    <tr>\n",
       "      <th>std</th>\n",
       "      <td>1.629616</td>\n",
       "      <td>91217.450533</td>\n",
       "    </tr>\n",
       "    <tr>\n",
       "      <th>min</th>\n",
       "      <td>2013.000000</td>\n",
       "      <td>300000.000000</td>\n",
       "    </tr>\n",
       "    <tr>\n",
       "      <th>25%</th>\n",
       "      <td>2015.000000</td>\n",
       "      <td>423750.000000</td>\n",
       "    </tr>\n",
       "    <tr>\n",
       "      <th>50%</th>\n",
       "      <td>2017.000000</td>\n",
       "      <td>500000.000000</td>\n",
       "    </tr>\n",
       "    <tr>\n",
       "      <th>75%</th>\n",
       "      <td>2017.000000</td>\n",
       "      <td>550000.000000</td>\n",
       "    </tr>\n",
       "    <tr>\n",
       "      <th>max</th>\n",
       "      <td>2020.000000</td>\n",
       "      <td>755000.000000</td>\n",
       "    </tr>\n",
       "  </tbody>\n",
       "</table>\n",
       "</div>"
      ],
      "text/plain": [
       "              Year          Price\n",
       "count   112.000000     112.000000\n",
       "mean   2016.669643  483866.044643\n",
       "std       1.629616   91217.450533\n",
       "min    2013.000000  300000.000000\n",
       "25%    2015.000000  423750.000000\n",
       "50%    2017.000000  500000.000000\n",
       "75%    2017.000000  550000.000000\n",
       "max    2020.000000  755000.000000"
      ]
     },
     "execution_count": 6,
     "metadata": {},
     "output_type": "execute_result"
    }
   ],
   "source": [
    "data.describe()"
   ]
  },
  {
   "cell_type": "code",
   "execution_count": null,
   "id": "3c13615d",
   "metadata": {},
   "outputs": [],
   "source": [
    "# Relation between Year and Price"
   ]
  },
  {
   "cell_type": "code",
   "execution_count": 7,
   "id": "c56ec5d0",
   "metadata": {},
   "outputs": [
    {
     "data": {
      "text/plain": [
       "<AxesSubplot:>"
      ]
     },
     "execution_count": 7,
     "metadata": {},
     "output_type": "execute_result"
    },
    {
     "data": {
      "image/png": "[encoded data removed]",
      "text/plain": [
       "<Figure size 720x360 with 2 Axes>"
      ]
     },
     "metadata": {
      "needs_background": "light"
     },
     "output_type": "display_data"
    }
   ],
   "source": [
    "corrmatrix=data.corr()\n",
    "plt.subplots(figsize=(10,5))\n",
    "sns.heatmap(corrmatrix,vmin=-.8,vmax=1,annot=True,cmap='twilight')"
   ]
  },
  {
   "cell_type": "code",
   "execution_count": 8,
   "id": "ab1c3d0a",
   "metadata": {},
   "outputs": [
    {
     "data": {
      "text/html": [
       "<div>\n",
       "<style scoped>\n",
       "    .dataframe tbody tr th:only-of-type {\n",
       "        vertical-align: middle;\n",
       "    }\n",
       "\n",
       "    .dataframe tbody tr th {\n",
       "        vertical-align: top;\n",
       "    }\n",
       "\n",
       "    .dataframe thead th {\n",
       "        text-align: right;\n",
       "    }\n",
       "</style>\n",
       "<table border=\"1\" class=\"dataframe\">\n",
       "  <thead>\n",
       "    <tr style=\"text-align: right;\">\n",
       "      <th></th>\n",
       "      <th>Year</th>\n",
       "      <th>Price</th>\n",
       "    </tr>\n",
       "  </thead>\n",
       "  <tbody>\n",
       "    <tr>\n",
       "      <th>Year</th>\n",
       "      <td>1.000000</td>\n",
       "      <td>0.776302</td>\n",
       "    </tr>\n",
       "    <tr>\n",
       "      <th>Price</th>\n",
       "      <td>0.776302</td>\n",
       "      <td>1.000000</td>\n",
       "    </tr>\n",
       "  </tbody>\n",
       "</table>\n",
       "</div>"
      ],
      "text/plain": [
       "           Year     Price\n",
       "Year   1.000000  0.776302\n",
       "Price  0.776302  1.000000"
      ]
     },
     "execution_count": 8,
     "metadata": {},
     "output_type": "execute_result"
    }
   ],
   "source": [
    "data.corr() "
   ]
  },
  {
   "cell_type": "code",
   "execution_count": null,
   "id": "03623d3f",
   "metadata": {},
   "outputs": [],
   "source": [
    "# There is a strong positive Correlation between Year and Price"
   ]
  },
  {
   "cell_type": "code",
   "execution_count": null,
   "id": "59a36f10",
   "metadata": {},
   "outputs": [],
   "source": [
    "# data['Price']  is dependent variable"
   ]
  },
  {
   "cell_type": "code",
   "execution_count": 9,
   "id": "80dfc4c0",
   "metadata": {},
   "outputs": [
    {
     "data": {
      "text/plain": [
       "array([[2018],\n",
       "       [2019],\n",
       "       [2019],\n",
       "       [2018],\n",
       "       [2018],\n",
       "       [2015],\n",
       "       [2016],\n",
       "       [2017],\n",
       "       [2017],\n",
       "       [2017],\n",
       "       [2019],\n",
       "       [2018],\n",
       "       [2017],\n",
       "       [2019],\n",
       "       [2017],\n",
       "       [2017],\n",
       "       [2017],\n",
       "       [2017],\n",
       "       [2019],\n",
       "       [2017],\n",
       "       [2018],\n",
       "       [2019],\n",
       "       [2015],\n",
       "       [2017],\n",
       "       [2017],\n",
       "       [2017],\n",
       "       [2017],\n",
       "       [2017],\n",
       "       [2017],\n",
       "       [2017],\n",
       "       [2019],\n",
       "       [2017],\n",
       "       [2017],\n",
       "       [2017],\n",
       "       [2017],\n",
       "       [2017],\n",
       "       [2017],\n",
       "       [2017],\n",
       "       [2018],\n",
       "       [2020],\n",
       "       [2019],\n",
       "       [2019],\n",
       "       [2018],\n",
       "       [2019],\n",
       "       [2019],\n",
       "       [2018],\n",
       "       [2019],\n",
       "       [2018],\n",
       "       [2016],\n",
       "       [2018],\n",
       "       [2013],\n",
       "       [2018],\n",
       "       [2013],\n",
       "       [2013],\n",
       "       [2017],\n",
       "       [2017],\n",
       "       [2014],\n",
       "       [2017],\n",
       "       [2014],\n",
       "       [2016],\n",
       "       [2015],\n",
       "       [2017],\n",
       "       [2017],\n",
       "       [2017],\n",
       "       [2015],\n",
       "       [2017],\n",
       "       [2017],\n",
       "       [2015],\n",
       "       [2015],\n",
       "       [2015],\n",
       "       [2015],\n",
       "       [2017],\n",
       "       [2015],\n",
       "       [2013],\n",
       "       [2017],\n",
       "       [2017],\n",
       "       [2015],\n",
       "       [2015],\n",
       "       [2015],\n",
       "       [2015],\n",
       "       [2015],\n",
       "       [2014],\n",
       "       [2015],\n",
       "       [2017],\n",
       "       [2015],\n",
       "       [2015],\n",
       "       [2017],\n",
       "       [2017],\n",
       "       [2017],\n",
       "       [2017],\n",
       "       [2017],\n",
       "       [2017],\n",
       "       [2017],\n",
       "       [2017],\n",
       "       [2017],\n",
       "       [2017],\n",
       "       [2017],\n",
       "       [2020],\n",
       "       [2020],\n",
       "       [2020],\n",
       "       [2016],\n",
       "       [2015],\n",
       "       [2015],\n",
       "       [2017],\n",
       "       [2014],\n",
       "       [2014],\n",
       "       [2015],\n",
       "       [2016],\n",
       "       [2014],\n",
       "       [2015],\n",
       "       [2016],\n",
       "       [2015]], dtype=int64)"
      ]
     },
     "execution_count": 9,
     "metadata": {},
     "output_type": "execute_result"
    }
   ],
   "source": [
    "X=data['Year'].values.reshape(-1,1)\n",
    "X"
   ]
  },
  {
   "cell_type": "code",
   "execution_count": 10,
   "id": "3b8723d0",
   "metadata": {},
   "outputs": [
    {
     "data": {
      "text/plain": [
       "array([465000, 755000, 700000, 465000, 465000, 350000, 425000, 575000,\n",
       "       509999, 575000, 500000, 500000, 500000, 600000, 475000, 500000,\n",
       "       500000, 550000, 500000, 500000, 500000, 500000, 434999, 550000,\n",
       "       550000, 550000, 550000, 550000, 550000, 550000, 650000, 550000,\n",
       "       550000, 550000, 450000, 550000, 550000, 486000, 475000, 545000,\n",
       "       525000, 600000, 550000, 550000, 550000, 450000, 500000, 450000,\n",
       "       396000, 600000, 325000, 550000, 345000, 345000, 525000, 550000,\n",
       "       341000, 550000, 450000, 550000, 490000, 540000, 540000, 595000,\n",
       "       490000, 495000, 525000, 400000, 465000, 300000, 450000, 490000,\n",
       "       300000, 320000, 490000, 490000, 450000, 325000, 409999, 400000,\n",
       "       390000, 390000, 390000, 480000, 325000, 320000, 520000, 520000,\n",
       "       520000, 520000, 520000, 520000, 520000, 520000, 520000, 520000,\n",
       "       520000, 640000, 700000, 600000, 350000, 400000, 350000, 375000,\n",
       "       400000, 400000, 300000, 375000, 300000, 425000, 420000, 425000],\n",
       "      dtype=int64)"
      ]
     },
     "execution_count": 10,
     "metadata": {},
     "output_type": "execute_result"
    }
   ],
   "source": [
    "y=data['Price'].values\n",
    "y"
   ]
  },
  {
   "cell_type": "code",
   "execution_count": 12,
   "id": "15d4ce8c",
   "metadata": {},
   "outputs": [
    {
     "data": {
      "image/png": "[encoded data removed]",
      "text/plain": [
       "<Figure size 432x288 with 1 Axes>"
      ]
     },
     "metadata": {
      "needs_background": "light"
     },
     "output_type": "display_data"
    }
   ],
   "source": [
    "data.plot(kind='scatter',x='Year',y='Price',title='Scatterplot of Year and Price')\n",
    "plt.show()"
   ]
  },
  {
   "cell_type": "code",
   "execution_count": null,
   "id": "9eb286c0",
   "metadata": {},
   "outputs": [],
   "source": [
    "# Regression Plot"
   ]
  },
  {
   "cell_type": "code",
   "execution_count": 13,
   "id": "7aad3d52",
   "metadata": {},
   "outputs": [
    {
     "data": {
      "image/png": "[encoded data removed]",
      "text/plain": [
       "<Figure size 432x288 with 1 Axes>"
      ]
     },
     "metadata": {
      "needs_background": "light"
     },
     "output_type": "display_data"
    }
   ],
   "source": [
    "sns.regplot(data=data,x='Year',y='Price')\n",
    "plt.title('Regplot of Year and Price')\n",
    "plt.show()"
   ]
  },
  {
   "cell_type": "markdown",
   "id": "bb00c433",
   "metadata": {},
   "source": [
    "# Linear Regression"
   ]
  },
  {
   "cell_type": "code",
   "execution_count": 14,
   "id": "03ff3f42",
   "metadata": {},
   "outputs": [],
   "source": [
    "from sklearn.linear_model import LinearRegression\n",
    "lr=LinearRegression()\n",
    "model=lr.fit(X,y)\n",
    "predictions=model.predict(X)"
   ]
  },
  {
   "cell_type": "code",
   "execution_count": 15,
   "id": "bb15b333",
   "metadata": {},
   "outputs": [
    {
     "data": {
      "text/plain": [
       "array([541674.55895805, 585127.93884598, 585127.93884598, 541674.55895805,\n",
       "       541674.55895805, 411314.41929425, 454767.79918219, 498221.17907012,\n",
       "       498221.17907012, 498221.17907012, 585127.93884598, 541674.55895805,\n",
       "       498221.17907012, 585127.93884598, 498221.17907012, 498221.17907012,\n",
       "       498221.17907012, 498221.17907012, 585127.93884598, 498221.17907012,\n",
       "       541674.55895805, 585127.93884598, 411314.41929425, 498221.17907012,\n",
       "       498221.17907012, 498221.17907012, 498221.17907012, 498221.17907012,\n",
       "       498221.17907012, 498221.17907012, 585127.93884598, 498221.17907012,\n",
       "       498221.17907012, 498221.17907012, 498221.17907012, 498221.17907012,\n",
       "       498221.17907012, 498221.17907012, 541674.55895805, 628581.3187339 ,\n",
       "       585127.93884598, 585127.93884598, 541674.55895805, 585127.93884598,\n",
       "       585127.93884598, 541674.55895805, 585127.93884598, 541674.55895805,\n",
       "       454767.79918219, 541674.55895805, 324407.65951841, 541674.55895805,\n",
       "       324407.65951841, 324407.65951841, 498221.17907012, 498221.17907012,\n",
       "       367861.03940633, 498221.17907012, 367861.03940633, 454767.79918219,\n",
       "       411314.41929425, 498221.17907012, 498221.17907012, 498221.17907012,\n",
       "       411314.41929425, 498221.17907012, 498221.17907012, 411314.41929425,\n",
       "       411314.41929425, 411314.41929425, 411314.41929425, 498221.17907012,\n",
       "       411314.41929425, 324407.65951841, 498221.17907012, 498221.17907012,\n",
       "       411314.41929425, 411314.41929425, 411314.41929425, 411314.41929425,\n",
       "       411314.41929425, 367861.03940633, 411314.41929425, 498221.17907012,\n",
       "       411314.41929425, 411314.41929425, 498221.17907012, 498221.17907012,\n",
       "       498221.17907012, 498221.17907012, 498221.17907012, 498221.17907012,\n",
       "       498221.17907012, 498221.17907012, 498221.17907012, 498221.17907012,\n",
       "       498221.17907012, 628581.3187339 , 628581.3187339 , 628581.3187339 ,\n",
       "       454767.79918219, 411314.41929425, 411314.41929425, 498221.17907012,\n",
       "       367861.03940633, 367861.03940633, 411314.41929425, 454767.79918219,\n",
       "       367861.03940633, 411314.41929425, 454767.79918219, 411314.41929425])"
      ]
     },
     "execution_count": 15,
     "metadata": {},
     "output_type": "execute_result"
    }
   ],
   "source": [
    "predictions"
   ]
  },
  {
   "cell_type": "code",
   "execution_count": null,
   "id": "413dcff1",
   "metadata": {},
   "outputs": [],
   "source": [
    "# Formula for Linear Relationship is y=mx+b where m is the slope of the line and b is the y intercept"
   ]
  },
  {
   "cell_type": "code",
   "execution_count": 16,
   "id": "caf7aa59",
   "metadata": {},
   "outputs": [
    {
     "data": {
      "text/plain": [
       "array([43453.37988793])"
      ]
     },
     "execution_count": 16,
     "metadata": {},
     "output_type": "execute_result"
    }
   ],
   "source": [
    "model.coef_     # Regression coefficient.  slope, m"
   ]
  },
  {
   "cell_type": "code",
   "execution_count": 17,
   "id": "d87ffadb",
   "metadata": {},
   "outputs": [
    {
     "data": {
      "text/plain": [
       "-87147246.05488417"
      ]
     },
     "execution_count": 17,
     "metadata": {},
     "output_type": "execute_result"
    }
   ],
   "source": [
    "model.intercept_   # Regression constant,b"
   ]
  },
  {
   "cell_type": "code",
   "execution_count": null,
   "id": "aabe3522",
   "metadata": {},
   "outputs": [],
   "source": [
    "# The line of best fit has y intercept of -87147246.05488417 and slope as 43453.37988793\n",
    "# y=43453.37988793x-87147246.05488417"
   ]
  },
  {
   "cell_type": "code",
   "execution_count": 18,
   "id": "59076670",
   "metadata": {},
   "outputs": [
    {
     "data": {
      "text/plain": [
       "0.6026450104600283"
      ]
     },
     "execution_count": 18,
     "metadata": {},
     "output_type": "execute_result"
    }
   ],
   "source": [
    "model.score(X,y)    # Coefficient of Determination,R^2"
   ]
  },
  {
   "cell_type": "code",
   "execution_count": null,
   "id": "265d54f4",
   "metadata": {},
   "outputs": [],
   "source": [
    "# when R^2=1, the regression predictions perfectly fit the data"
   ]
  },
  {
   "cell_type": "code",
   "execution_count": 19,
   "id": "570c689e",
   "metadata": {},
   "outputs": [
    {
     "data": {
      "text/plain": [
       "0.7763021386419261"
      ]
     },
     "execution_count": 19,
     "metadata": {},
     "output_type": "execute_result"
    }
   ],
   "source": [
    "# Coefficient of Correlation , r=sqrt(R^2)\n",
    "import math\n",
    "r=math.sqrt(0.6026450104600283)\n",
    "r"
   ]
  },
  {
   "cell_type": "code",
   "execution_count": null,
   "id": "3ad463bf",
   "metadata": {},
   "outputs": [],
   "source": [
    "# Since r=0.7763021386419261, there is a strong linear relationship between Year and Price"
   ]
  },
  {
   "cell_type": "code",
   "execution_count": 20,
   "id": "c24c0fb1",
   "metadata": {},
   "outputs": [
    {
     "data": {
      "image/png": "[encoded data removed]",
      "text/plain": [
       "<Figure size 432x288 with 1 Axes>"
      ]
     },
     "metadata": {
      "needs_background": "light"
     },
     "output_type": "display_data"
    }
   ],
   "source": [
    "data.plot.scatter(x='Year',y='Price')\n",
    "plt.plot(X,predictions,c='red')\n",
    "plt.show()"
   ]
  },
  {
   "cell_type": "code",
   "execution_count": null,
   "id": "cf838775",
   "metadata": {},
   "outputs": [],
   "source": [
    "# Predicting the possible price of a 2022 model second-hand Hyundai grand i10"
   ]
  },
  {
   "cell_type": "code",
   "execution_count": 21,
   "id": "a869241f",
   "metadata": {},
   "outputs": [
    {
     "data": {
      "text/plain": [
       "array([715488.07850976])"
      ]
     },
     "execution_count": 21,
     "metadata": {},
     "output_type": "execute_result"
    }
   ],
   "source": [
    "Price_prediction_2022=model.predict([[2022]])\n",
    "Price_prediction_2022"
   ]
  },
  {
   "cell_type": "markdown",
   "id": "5acddc5a",
   "metadata": {},
   "source": [
    "# Linear Regression - creating  Machine Learning Model "
   ]
  },
  {
   "cell_type": "code",
   "execution_count": 22,
   "id": "ea087346",
   "metadata": {},
   "outputs": [],
   "source": [
    "from sklearn.model_selection import train_test_split\n",
    "X_train,X_test,y_train,y_test=train_test_split(X,y,random_state=42,test_size=.2)"
   ]
  },
  {
   "cell_type": "code",
   "execution_count": 23,
   "id": "b6c30367",
   "metadata": {},
   "outputs": [],
   "source": [
    "model1=lr.fit(X_train,y_train)\n",
    "predictions1=model1.predict(X_test)"
   ]
  },
  {
   "cell_type": "code",
   "execution_count": 24,
   "id": "4fa1a3d0",
   "metadata": {},
   "outputs": [
    {
     "data": {
      "text/plain": [
       "array([525000, 495000, 465000, 450000, 550000, 300000, 550000, 500000,\n",
       "       500000, 550000, 320000, 550000, 465000, 640000, 465000, 500000,\n",
       "       345000, 390000, 375000, 520000, 550000, 500000, 550000],\n",
       "      dtype=int64)"
      ]
     },
     "execution_count": 24,
     "metadata": {},
     "output_type": "execute_result"
    }
   ],
   "source": [
    "y_test"
   ]
  },
  {
   "cell_type": "code",
   "execution_count": 25,
   "id": "956123bd",
   "metadata": {},
   "outputs": [
    {
     "data": {
      "text/plain": [
       "array([600775.91252081, 505558.77690466, 553167.34471273, 553167.34471273,\n",
       "       553167.34471273, 410341.6412885 , 505558.77690466, 553167.34471273,\n",
       "       600775.91252081, 600775.91252081, 315124.50567235, 505558.77690466,\n",
       "       410341.6412885 , 648384.48032889, 553167.34471273, 600775.91252081,\n",
       "       315124.50567235, 410341.6412885 , 505558.77690466, 505558.77690466,\n",
       "       505558.77690466, 505558.77690466, 505558.77690466])"
      ]
     },
     "execution_count": 25,
     "metadata": {},
     "output_type": "execute_result"
    }
   ],
   "source": [
    "predictions1"
   ]
  },
  {
   "cell_type": "code",
   "execution_count": 26,
   "id": "c5425b71",
   "metadata": {},
   "outputs": [
    {
     "name": "stdout",
     "output_type": "stream",
     "text": [
      "Mean Squared Error :  4326906256.829671\n",
      "R Squared Value :  0.36759313425902185\n",
      "Mean Absolute Error :  53534.77957001264\n"
     ]
    }
   ],
   "source": [
    "from sklearn.metrics import mean_squared_error,r2_score,mean_absolute_error\n",
    "print('Mean Squared Error : ',mean_squared_error(y_test,predictions1))\n",
    "print('R Squared Value : ',r2_score(y_test,predictions1))\n",
    "print('Mean Absolute Error : ',mean_absolute_error(y_test,predictions1))"
   ]
  },
  {
   "cell_type": "code",
   "execution_count": null,
   "id": "c91f5e9f",
   "metadata": {},
   "outputs": [],
   "source": [
    "# Since R^2 value is  0.36759313425902185, the regression line is not best fit for all the data points"
   ]
  },
  {
   "cell_type": "code",
   "execution_count": 27,
   "id": "ea2429f3",
   "metadata": {},
   "outputs": [
    {
     "data": {
      "text/plain": [
       "-95520922.49198584"
      ]
     },
     "execution_count": 27,
     "metadata": {},
     "output_type": "execute_result"
    }
   ],
   "source": [
    "model1.intercept_"
   ]
  },
  {
   "cell_type": "code",
   "execution_count": 28,
   "id": "2f2dcf00",
   "metadata": {},
   "outputs": [
    {
     "data": {
      "text/plain": [
       "array([47608.56780808])"
      ]
     },
     "execution_count": 28,
     "metadata": {},
     "output_type": "execute_result"
    }
   ],
   "source": [
    "model1.coef_"
   ]
  },
  {
   "cell_type": "code",
   "execution_count": 29,
   "id": "2a92ba7b",
   "metadata": {},
   "outputs": [
    {
     "data": {
      "text/plain": [
       "array([743601.61594504])"
      ]
     },
     "execution_count": 29,
     "metadata": {},
     "output_type": "execute_result"
    }
   ],
   "source": [
    "year=2022\n",
    "predict_new=model1.predict([[2022]])\n",
    "predict_new"
   ]
  },
  {
   "cell_type": "code",
   "execution_count": 30,
   "id": "935b74ba",
   "metadata": {},
   "outputs": [],
   "source": [
    "X_train,X_test,y_train,y_test=train_test_split(X,y,random_state=42,test_size=.2)"
   ]
  },
  {
   "cell_type": "markdown",
   "id": "30ca56d1",
   "metadata": {},
   "source": [
    "# Lasso Regression - Creating Machine Learning Model"
   ]
  },
  {
   "cell_type": "code",
   "execution_count": 31,
   "id": "6d2b8b46",
   "metadata": {},
   "outputs": [],
   "source": [
    "from sklearn.linear_model import Lasso\n",
    "lasso = Lasso(alpha = 1)\n",
    "model2=lasso.fit(X_train, y_train)\n",
    "predictions2 = model2.predict(X_test)"
   ]
  },
  {
   "cell_type": "code",
   "execution_count": 32,
   "id": "a5e6f813",
   "metadata": {},
   "outputs": [
    {
     "data": {
      "text/plain": [
       "array([600774.90747294, 505558.59627394, 553166.75187345, 553166.75187345,\n",
       "       553166.75187345, 410342.28507493, 505558.59627394, 553166.75187345,\n",
       "       600774.90747294, 600774.90747294, 315125.97387594, 505558.59627394,\n",
       "       410342.28507493, 648383.06307244, 553166.75187345, 600774.90747294,\n",
       "       315125.97387594, 410342.28507493, 505558.59627394, 505558.59627394,\n",
       "       505558.59627394, 505558.59627394, 505558.59627394])"
      ]
     },
     "execution_count": 32,
     "metadata": {},
     "output_type": "execute_result"
    }
   ],
   "source": [
    "predictions2"
   ]
  },
  {
   "cell_type": "code",
   "execution_count": 33,
   "id": "09e68d31",
   "metadata": {},
   "outputs": [
    {
     "name": "stdout",
     "output_type": "stream",
     "text": [
      "Mean Squared Error :  4326859771.015669\n",
      "R Squared Value :  0.3675999284778446\n",
      "Mean Absolute Error :  53534.33030898286\n"
     ]
    }
   ],
   "source": [
    "print('Mean Squared Error : ',mean_squared_error(y_test,predictions2))\n",
    "print('R Squared Value : ',r2_score(y_test,predictions2))\n",
    "print('Mean Absolute Error : ',mean_absolute_error(y_test,predictions2))"
   ]
  },
  {
   "cell_type": "code",
   "execution_count": 34,
   "id": "4715a1ea",
   "metadata": {},
   "outputs": [
    {
     "data": {
      "text/plain": [
       "array([47608.1555995])"
      ]
     },
     "execution_count": 34,
     "metadata": {},
     "output_type": "execute_result"
    }
   ],
   "source": [
    "lasso.coef_"
   ]
  },
  {
   "cell_type": "code",
   "execution_count": 35,
   "id": "37885f1e",
   "metadata": {},
   "outputs": [
    {
     "data": {
      "text/plain": [
       "-95520091.24791841"
      ]
     },
     "execution_count": 35,
     "metadata": {},
     "output_type": "execute_result"
    }
   ],
   "source": [
    "lasso.intercept_"
   ]
  },
  {
   "cell_type": "code",
   "execution_count": 36,
   "id": "174b5ab6",
   "metadata": {},
   "outputs": [
    {
     "data": {
      "text/plain": [
       "array([743599.37427144])"
      ]
     },
     "execution_count": 36,
     "metadata": {},
     "output_type": "execute_result"
    }
   ],
   "source": [
    "year1=2022\n",
    "predict_new1=model2.predict([[2022]])\n",
    "predict_new1"
   ]
  },
  {
   "cell_type": "code",
   "execution_count": null,
   "id": "18763e70",
   "metadata": {
    "collapsed": true
   },
   "outputs": [],
   "source": [
    "# Conclusion : MSE and r square values are the same in both Lasso and Linear Regressions.Lasso regression is able \n",
    "# to remove variables that are not adequate predictors of the outcome variable. In both cases, R^2 value is very low\n",
    "# which shows both do not perform well."
   ]
  }
 ],
 "metadata": {
  "kernelspec": {
   "display_name": "Python 3 (ipykernel)",
   "language": "python",
   "name": "python3"
  },
  "language_info": {
   "codemirror_mode": {
    "name": "ipython",
    "version": 3
   },
   "file_extension": ".py",
   "mimetype": "text/x-python",
   "name": "python",
   "nbconvert_exporter": "python",
   "pygments_lexer": "ipython3",
   "version": "3.9.12"
  }
 },
 "nbformat": 4,
 "nbformat_minor": 5
}
