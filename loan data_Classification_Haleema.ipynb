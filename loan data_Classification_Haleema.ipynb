{
 "cells": [
  {
   "cell_type": "code",
   "execution_count": 1,
   "id": "240679b5",
   "metadata": {},
   "outputs": [],
   "source": [
    "# Importing Libaries\n",
    "import numpy as np\n",
    "import pandas as pd\n",
    "import matplotlib.pyplot as plt\n",
    "import seaborn as sns\n",
    "%matplotlib inline"
   ]
  },
  {
   "cell_type": "code",
   "execution_count": 2,
   "id": "4e8ac8f4",
   "metadata": {
    "scrolled": true
   },
   "outputs": [
    {
     "data": {
      "text/html": [
       "<div>\n",
       "<style scoped>\n",
       "    .dataframe tbody tr th:only-of-type {\n",
       "        vertical-align: middle;\n",
       "    }\n",
       "\n",
       "    .dataframe tbody tr th {\n",
       "        vertical-align: top;\n",
       "    }\n",
       "\n",
       "    .dataframe thead th {\n",
       "        text-align: right;\n",
       "    }\n",
       "</style>\n",
       "<table border=\"1\" class=\"dataframe\">\n",
       "  <thead>\n",
       "    <tr style=\"text-align: right;\">\n",
       "      <th></th>\n",
       "      <th>loan_id</th>\n",
       "      <th>source</th>\n",
       "      <th>financial_institution</th>\n",
       "      <th>interest_rate</th>\n",
       "      <th>unpaid_principal_bal</th>\n",
       "      <th>loan_term</th>\n",
       "      <th>origination_date</th>\n",
       "      <th>first_payment_date</th>\n",
       "      <th>loan_to_value</th>\n",
       "      <th>number_of_borrowers</th>\n",
       "      <th>...</th>\n",
       "      <th>m4</th>\n",
       "      <th>m5</th>\n",
       "      <th>m6</th>\n",
       "      <th>m7</th>\n",
       "      <th>m8</th>\n",
       "      <th>m9</th>\n",
       "      <th>m10</th>\n",
       "      <th>m11</th>\n",
       "      <th>m12</th>\n",
       "      <th>m13</th>\n",
       "    </tr>\n",
       "  </thead>\n",
       "  <tbody>\n",
       "    <tr>\n",
       "      <th>0</th>\n",
       "      <td>268055008619</td>\n",
       "      <td>Z</td>\n",
       "      <td>Turner, Baldwin and Rhodes</td>\n",
       "      <td>4.250</td>\n",
       "      <td>214000</td>\n",
       "      <td>360</td>\n",
       "      <td>2012-03-01</td>\n",
       "      <td>05/2012</td>\n",
       "      <td>95</td>\n",
       "      <td>1.0</td>\n",
       "      <td>...</td>\n",
       "      <td>0</td>\n",
       "      <td>0</td>\n",
       "      <td>0</td>\n",
       "      <td>1</td>\n",
       "      <td>0</td>\n",
       "      <td>0</td>\n",
       "      <td>0</td>\n",
       "      <td>0</td>\n",
       "      <td>0</td>\n",
       "      <td>1</td>\n",
       "    </tr>\n",
       "    <tr>\n",
       "      <th>1</th>\n",
       "      <td>672831657627</td>\n",
       "      <td>Y</td>\n",
       "      <td>Swanson, Newton and Miller</td>\n",
       "      <td>4.875</td>\n",
       "      <td>144000</td>\n",
       "      <td>360</td>\n",
       "      <td>2012-01-01</td>\n",
       "      <td>03/2012</td>\n",
       "      <td>72</td>\n",
       "      <td>1.0</td>\n",
       "      <td>...</td>\n",
       "      <td>0</td>\n",
       "      <td>0</td>\n",
       "      <td>0</td>\n",
       "      <td>0</td>\n",
       "      <td>0</td>\n",
       "      <td>0</td>\n",
       "      <td>0</td>\n",
       "      <td>1</td>\n",
       "      <td>0</td>\n",
       "      <td>1</td>\n",
       "    </tr>\n",
       "    <tr>\n",
       "      <th>2</th>\n",
       "      <td>742515242108</td>\n",
       "      <td>Z</td>\n",
       "      <td>Thornton-Davis</td>\n",
       "      <td>3.250</td>\n",
       "      <td>366000</td>\n",
       "      <td>180</td>\n",
       "      <td>2012-01-01</td>\n",
       "      <td>03/2012</td>\n",
       "      <td>49</td>\n",
       "      <td>1.0</td>\n",
       "      <td>...</td>\n",
       "      <td>0</td>\n",
       "      <td>0</td>\n",
       "      <td>0</td>\n",
       "      <td>0</td>\n",
       "      <td>0</td>\n",
       "      <td>0</td>\n",
       "      <td>0</td>\n",
       "      <td>0</td>\n",
       "      <td>0</td>\n",
       "      <td>1</td>\n",
       "    </tr>\n",
       "    <tr>\n",
       "      <th>3</th>\n",
       "      <td>601385667462</td>\n",
       "      <td>X</td>\n",
       "      <td>OTHER</td>\n",
       "      <td>4.750</td>\n",
       "      <td>135000</td>\n",
       "      <td>360</td>\n",
       "      <td>2012-02-01</td>\n",
       "      <td>04/2012</td>\n",
       "      <td>46</td>\n",
       "      <td>2.0</td>\n",
       "      <td>...</td>\n",
       "      <td>0</td>\n",
       "      <td>0</td>\n",
       "      <td>0</td>\n",
       "      <td>0</td>\n",
       "      <td>0</td>\n",
       "      <td>1</td>\n",
       "      <td>1</td>\n",
       "      <td>1</td>\n",
       "      <td>1</td>\n",
       "      <td>1</td>\n",
       "    </tr>\n",
       "    <tr>\n",
       "      <th>4</th>\n",
       "      <td>273870029961</td>\n",
       "      <td>X</td>\n",
       "      <td>OTHER</td>\n",
       "      <td>4.750</td>\n",
       "      <td>124000</td>\n",
       "      <td>360</td>\n",
       "      <td>2012-02-01</td>\n",
       "      <td>04/2012</td>\n",
       "      <td>80</td>\n",
       "      <td>1.0</td>\n",
       "      <td>...</td>\n",
       "      <td>3</td>\n",
       "      <td>4</td>\n",
       "      <td>5</td>\n",
       "      <td>6</td>\n",
       "      <td>7</td>\n",
       "      <td>8</td>\n",
       "      <td>9</td>\n",
       "      <td>10</td>\n",
       "      <td>11</td>\n",
       "      <td>1</td>\n",
       "    </tr>\n",
       "    <tr>\n",
       "      <th>...</th>\n",
       "      <td>...</td>\n",
       "      <td>...</td>\n",
       "      <td>...</td>\n",
       "      <td>...</td>\n",
       "      <td>...</td>\n",
       "      <td>...</td>\n",
       "      <td>...</td>\n",
       "      <td>...</td>\n",
       "      <td>...</td>\n",
       "      <td>...</td>\n",
       "      <td>...</td>\n",
       "      <td>...</td>\n",
       "      <td>...</td>\n",
       "      <td>...</td>\n",
       "      <td>...</td>\n",
       "      <td>...</td>\n",
       "      <td>...</td>\n",
       "      <td>...</td>\n",
       "      <td>...</td>\n",
       "      <td>...</td>\n",
       "      <td>...</td>\n",
       "    </tr>\n",
       "    <tr>\n",
       "      <th>116053</th>\n",
       "      <td>382119962287</td>\n",
       "      <td>Y</td>\n",
       "      <td>Browning-Hart</td>\n",
       "      <td>4.125</td>\n",
       "      <td>153000</td>\n",
       "      <td>360</td>\n",
       "      <td>2012-02-01</td>\n",
       "      <td>04/2012</td>\n",
       "      <td>88</td>\n",
       "      <td>2.0</td>\n",
       "      <td>...</td>\n",
       "      <td>0</td>\n",
       "      <td>0</td>\n",
       "      <td>0</td>\n",
       "      <td>0</td>\n",
       "      <td>0</td>\n",
       "      <td>0</td>\n",
       "      <td>0</td>\n",
       "      <td>0</td>\n",
       "      <td>0</td>\n",
       "      <td>0</td>\n",
       "    </tr>\n",
       "    <tr>\n",
       "      <th>116054</th>\n",
       "      <td>582803915466</td>\n",
       "      <td>Z</td>\n",
       "      <td>OTHER</td>\n",
       "      <td>3.000</td>\n",
       "      <td>150000</td>\n",
       "      <td>120</td>\n",
       "      <td>2012-01-01</td>\n",
       "      <td>03/2012</td>\n",
       "      <td>35</td>\n",
       "      <td>1.0</td>\n",
       "      <td>...</td>\n",
       "      <td>0</td>\n",
       "      <td>0</td>\n",
       "      <td>0</td>\n",
       "      <td>0</td>\n",
       "      <td>0</td>\n",
       "      <td>0</td>\n",
       "      <td>0</td>\n",
       "      <td>0</td>\n",
       "      <td>0</td>\n",
       "      <td>0</td>\n",
       "    </tr>\n",
       "    <tr>\n",
       "      <th>116055</th>\n",
       "      <td>837922316947</td>\n",
       "      <td>X</td>\n",
       "      <td>OTHER</td>\n",
       "      <td>3.875</td>\n",
       "      <td>166000</td>\n",
       "      <td>360</td>\n",
       "      <td>2012-02-01</td>\n",
       "      <td>04/2012</td>\n",
       "      <td>58</td>\n",
       "      <td>2.0</td>\n",
       "      <td>...</td>\n",
       "      <td>0</td>\n",
       "      <td>0</td>\n",
       "      <td>0</td>\n",
       "      <td>0</td>\n",
       "      <td>0</td>\n",
       "      <td>0</td>\n",
       "      <td>0</td>\n",
       "      <td>0</td>\n",
       "      <td>0</td>\n",
       "      <td>0</td>\n",
       "    </tr>\n",
       "    <tr>\n",
       "      <th>116056</th>\n",
       "      <td>477343182138</td>\n",
       "      <td>X</td>\n",
       "      <td>OTHER</td>\n",
       "      <td>4.250</td>\n",
       "      <td>169000</td>\n",
       "      <td>360</td>\n",
       "      <td>2012-02-01</td>\n",
       "      <td>04/2012</td>\n",
       "      <td>74</td>\n",
       "      <td>2.0</td>\n",
       "      <td>...</td>\n",
       "      <td>0</td>\n",
       "      <td>0</td>\n",
       "      <td>0</td>\n",
       "      <td>0</td>\n",
       "      <td>0</td>\n",
       "      <td>0</td>\n",
       "      <td>0</td>\n",
       "      <td>0</td>\n",
       "      <td>0</td>\n",
       "      <td>0</td>\n",
       "    </tr>\n",
       "    <tr>\n",
       "      <th>116057</th>\n",
       "      <td>763308490661</td>\n",
       "      <td>Z</td>\n",
       "      <td>Thornton-Davis</td>\n",
       "      <td>3.375</td>\n",
       "      <td>252000</td>\n",
       "      <td>180</td>\n",
       "      <td>2012-01-01</td>\n",
       "      <td>03/2012</td>\n",
       "      <td>29</td>\n",
       "      <td>2.0</td>\n",
       "      <td>...</td>\n",
       "      <td>0</td>\n",
       "      <td>0</td>\n",
       "      <td>0</td>\n",
       "      <td>0</td>\n",
       "      <td>0</td>\n",
       "      <td>0</td>\n",
       "      <td>0</td>\n",
       "      <td>0</td>\n",
       "      <td>0</td>\n",
       "      <td>0</td>\n",
       "    </tr>\n",
       "  </tbody>\n",
       "</table>\n",
       "<p>116058 rows × 29 columns</p>\n",
       "</div>"
      ],
      "text/plain": [
       "             loan_id source       financial_institution  interest_rate  \\\n",
       "0       268055008619      Z  Turner, Baldwin and Rhodes          4.250   \n",
       "1       672831657627      Y  Swanson, Newton and Miller          4.875   \n",
       "2       742515242108      Z              Thornton-Davis          3.250   \n",
       "3       601385667462      X                       OTHER          4.750   \n",
       "4       273870029961      X                       OTHER          4.750   \n",
       "...              ...    ...                         ...            ...   \n",
       "116053  382119962287      Y               Browning-Hart          4.125   \n",
       "116054  582803915466      Z                       OTHER          3.000   \n",
       "116055  837922316947      X                       OTHER          3.875   \n",
       "116056  477343182138      X                       OTHER          4.250   \n",
       "116057  763308490661      Z              Thornton-Davis          3.375   \n",
       "\n",
       "        unpaid_principal_bal  loan_term origination_date first_payment_date  \\\n",
       "0                     214000        360       2012-03-01            05/2012   \n",
       "1                     144000        360       2012-01-01            03/2012   \n",
       "2                     366000        180       2012-01-01            03/2012   \n",
       "3                     135000        360       2012-02-01            04/2012   \n",
       "4                     124000        360       2012-02-01            04/2012   \n",
       "...                      ...        ...              ...                ...   \n",
       "116053                153000        360       2012-02-01            04/2012   \n",
       "116054                150000        120       2012-01-01            03/2012   \n",
       "116055                166000        360       2012-02-01            04/2012   \n",
       "116056                169000        360       2012-02-01            04/2012   \n",
       "116057                252000        180       2012-01-01            03/2012   \n",
       "\n",
       "        loan_to_value  number_of_borrowers  ...  m4  m5 m6  m7  m8  m9  m10  \\\n",
       "0                  95                  1.0  ...   0   0  0   1   0   0    0   \n",
       "1                  72                  1.0  ...   0   0  0   0   0   0    0   \n",
       "2                  49                  1.0  ...   0   0  0   0   0   0    0   \n",
       "3                  46                  2.0  ...   0   0  0   0   0   1    1   \n",
       "4                  80                  1.0  ...   3   4  5   6   7   8    9   \n",
       "...               ...                  ...  ...  ..  .. ..  ..  ..  ..  ...   \n",
       "116053             88                  2.0  ...   0   0  0   0   0   0    0   \n",
       "116054             35                  1.0  ...   0   0  0   0   0   0    0   \n",
       "116055             58                  2.0  ...   0   0  0   0   0   0    0   \n",
       "116056             74                  2.0  ...   0   0  0   0   0   0    0   \n",
       "116057             29                  2.0  ...   0   0  0   0   0   0    0   \n",
       "\n",
       "        m11  m12  m13  \n",
       "0         0    0    1  \n",
       "1         1    0    1  \n",
       "2         0    0    1  \n",
       "3         1    1    1  \n",
       "4        10   11    1  \n",
       "...     ...  ...  ...  \n",
       "116053    0    0    0  \n",
       "116054    0    0    0  \n",
       "116055    0    0    0  \n",
       "116056    0    0    0  \n",
       "116057    0    0    0  \n",
       "\n",
       "[116058 rows x 29 columns]"
      ]
     },
     "execution_count": 2,
     "metadata": {},
     "output_type": "execute_result"
    }
   ],
   "source": [
    "# Reading the data\n",
    "data=pd.read_csv(\"C:\\\\Users\\\\adilv\\\\Downloads\\\\loan_dataset.csv\")\n",
    "data"
   ]
  },
  {
   "cell_type": "code",
   "execution_count": 3,
   "id": "481db4b9",
   "metadata": {},
   "outputs": [
    {
     "name": "stdout",
     "output_type": "stream",
     "text": [
      "<class 'pandas.core.frame.DataFrame'>\n",
      "RangeIndex: 116058 entries, 0 to 116057\n",
      "Data columns (total 29 columns):\n",
      " #   Column                    Non-Null Count   Dtype  \n",
      "---  ------                    --------------   -----  \n",
      " 0   loan_id                   116058 non-null  int64  \n",
      " 1   source                    116058 non-null  object \n",
      " 2   financial_institution     116058 non-null  object \n",
      " 3   interest_rate             116058 non-null  float64\n",
      " 4   unpaid_principal_bal      116058 non-null  int64  \n",
      " 5   loan_term                 116058 non-null  int64  \n",
      " 6   origination_date          116058 non-null  object \n",
      " 7   first_payment_date        116058 non-null  object \n",
      " 8   loan_to_value             116058 non-null  int64  \n",
      " 9   number_of_borrowers       116058 non-null  float64\n",
      " 10  debt_to_income_ratio      116058 non-null  float64\n",
      " 11  borrower_credit_score     116058 non-null  float64\n",
      " 12  loan_purpose              116058 non-null  object \n",
      " 13  insurance_percent         116058 non-null  float64\n",
      " 14  co-borrower_credit_score  116058 non-null  float64\n",
      " 15  insurance_type            116058 non-null  float64\n",
      " 16  m1                        116058 non-null  int64  \n",
      " 17  m2                        116058 non-null  int64  \n",
      " 18  m3                        116058 non-null  int64  \n",
      " 19  m4                        116058 non-null  int64  \n",
      " 20  m5                        116058 non-null  int64  \n",
      " 21  m6                        116058 non-null  int64  \n",
      " 22  m7                        116058 non-null  int64  \n",
      " 23  m8                        116058 non-null  int64  \n",
      " 24  m9                        116058 non-null  int64  \n",
      " 25  m10                       116058 non-null  int64  \n",
      " 26  m11                       116058 non-null  int64  \n",
      " 27  m12                       116058 non-null  int64  \n",
      " 28  m13                       116058 non-null  int64  \n",
      "dtypes: float64(7), int64(17), object(5)\n",
      "memory usage: 25.7+ MB\n"
     ]
    }
   ],
   "source": [
    "# Details of the data\n",
    "data.info()"
   ]
  },
  {
   "cell_type": "code",
   "execution_count": 4,
   "id": "b6344e16",
   "metadata": {},
   "outputs": [
    {
     "data": {
      "text/plain": [
       "(116058, 29)"
      ]
     },
     "execution_count": 4,
     "metadata": {},
     "output_type": "execute_result"
    }
   ],
   "source": [
    "# Shape of the data\n",
    "data.shape"
   ]
  },
  {
   "cell_type": "code",
   "execution_count": null,
   "id": "fbd0bc91",
   "metadata": {},
   "outputs": [],
   "source": [
    "# Object datatypes :  source,financial_institution,loan_purpose,origination_date and first_payment_date "
   ]
  },
  {
   "cell_type": "code",
   "execution_count": 5,
   "id": "f820eb8f",
   "metadata": {
    "scrolled": true
   },
   "outputs": [
    {
     "data": {
      "text/plain": [
       "loan_id                     0\n",
       "source                      0\n",
       "financial_institution       0\n",
       "interest_rate               0\n",
       "unpaid_principal_bal        0\n",
       "loan_term                   0\n",
       "origination_date            0\n",
       "first_payment_date          0\n",
       "loan_to_value               0\n",
       "number_of_borrowers         0\n",
       "debt_to_income_ratio        0\n",
       "borrower_credit_score       0\n",
       "loan_purpose                0\n",
       "insurance_percent           0\n",
       "co-borrower_credit_score    0\n",
       "insurance_type              0\n",
       "m1                          0\n",
       "m2                          0\n",
       "m3                          0\n",
       "m4                          0\n",
       "m5                          0\n",
       "m6                          0\n",
       "m7                          0\n",
       "m8                          0\n",
       "m9                          0\n",
       "m10                         0\n",
       "m11                         0\n",
       "m12                         0\n",
       "m13                         0\n",
       "dtype: int64"
      ]
     },
     "execution_count": 5,
     "metadata": {},
     "output_type": "execute_result"
    }
   ],
   "source": [
    "# Finding Missing Values\n",
    "data.isna().sum()"
   ]
  },
  {
   "cell_type": "code",
   "execution_count": null,
   "id": "c5d7f32b",
   "metadata": {},
   "outputs": [],
   "source": [
    "# There are no null values"
   ]
  },
  {
   "cell_type": "code",
   "execution_count": 6,
   "id": "9bc1f522",
   "metadata": {},
   "outputs": [
    {
     "data": {
      "text/plain": [
       "116058"
      ]
     },
     "execution_count": 6,
     "metadata": {},
     "output_type": "execute_result"
    }
   ],
   "source": [
    "data['loan_id'].nunique()"
   ]
  },
  {
   "cell_type": "code",
   "execution_count": 7,
   "id": "702397c7",
   "metadata": {},
   "outputs": [
    {
     "data": {
      "text/plain": [
       "19"
      ]
     },
     "execution_count": 7,
     "metadata": {},
     "output_type": "execute_result"
    }
   ],
   "source": [
    "data['financial_institution'].nunique()"
   ]
  },
  {
   "cell_type": "code",
   "execution_count": 8,
   "id": "3d9981fb",
   "metadata": {},
   "outputs": [
    {
     "data": {
      "text/plain": [
       "array(['Z', 'Y', 'X'], dtype=object)"
      ]
     },
     "execution_count": 8,
     "metadata": {},
     "output_type": "execute_result"
    }
   ],
   "source": [
    "data['source'].unique()"
   ]
  },
  {
   "cell_type": "code",
   "execution_count": 9,
   "id": "704a09af",
   "metadata": {},
   "outputs": [
    {
     "data": {
      "text/plain": [
       "array(['C86', 'B12', 'A23'], dtype=object)"
      ]
     },
     "execution_count": 9,
     "metadata": {},
     "output_type": "execute_result"
    }
   ],
   "source": [
    "data['loan_purpose'].unique()"
   ]
  },
  {
   "cell_type": "code",
   "execution_count": 10,
   "id": "eab449e9",
   "metadata": {},
   "outputs": [],
   "source": [
    "data1=data.drop(['loan_id','financial_institution'],axis=1)"
   ]
  },
  {
   "cell_type": "code",
   "execution_count": 11,
   "id": "0cd1ab8c",
   "metadata": {},
   "outputs": [],
   "source": [
    "# Label Encoding the columns source and loan_purpose\n",
    "from sklearn.preprocessing import LabelEncoder\n",
    "lab_enc=LabelEncoder()\n",
    "data1['source']=lab_enc.fit_transform(data1['source'])\n",
    "data1['loan_purpose']=lab_enc.fit_transform(data1['loan_purpose'])"
   ]
  },
  {
   "cell_type": "code",
   "execution_count": 12,
   "id": "a347c5e6",
   "metadata": {},
   "outputs": [
    {
     "data": {
      "text/plain": [
       "array(['2012-03-01', '2012-01-01', '2012-02-01'], dtype=object)"
      ]
     },
     "execution_count": 12,
     "metadata": {},
     "output_type": "execute_result"
    }
   ],
   "source": [
    "data1['origination_date'].unique()"
   ]
  },
  {
   "cell_type": "code",
   "execution_count": 13,
   "id": "b3fade41",
   "metadata": {},
   "outputs": [
    {
     "data": {
      "text/plain": [
       "0        2012-03-01\n",
       "1        2012-01-01\n",
       "2        2012-01-01\n",
       "3        2012-02-01\n",
       "4        2012-02-01\n",
       "            ...    \n",
       "116053   2012-02-01\n",
       "116054   2012-01-01\n",
       "116055   2012-02-01\n",
       "116056   2012-02-01\n",
       "116057   2012-01-01\n",
       "Name: origination_date, Length: 116058, dtype: datetime64[ns]"
      ]
     },
     "execution_count": 13,
     "metadata": {},
     "output_type": "execute_result"
    }
   ],
   "source": [
    "data1['origination_date']=pd.to_datetime(data1['origination_date'])\n",
    "data1['origination_date']"
   ]
  },
  {
   "cell_type": "code",
   "execution_count": 14,
   "id": "e7a27ac2",
   "metadata": {},
   "outputs": [
    {
     "data": {
      "text/plain": [
       "0         2012\n",
       "1         2012\n",
       "2         2012\n",
       "3         2012\n",
       "4         2012\n",
       "          ... \n",
       "116053    2012\n",
       "116054    2012\n",
       "116055    2012\n",
       "116056    2012\n",
       "116057    2012\n",
       "Name: origination_date_year, Length: 116058, dtype: int64"
      ]
     },
     "execution_count": 14,
     "metadata": {},
     "output_type": "execute_result"
    }
   ],
   "source": [
    "data1['origination_date_year']=data1['origination_date'].dt.year\n",
    "data1['origination_date_year']"
   ]
  },
  {
   "cell_type": "code",
   "execution_count": 15,
   "id": "a72d5429",
   "metadata": {},
   "outputs": [],
   "source": [
    "data1['origination_date_month']=data1['origination_date'].dt.month\n",
    "data1['origination_date_day']=data1['origination_date'].dt.day"
   ]
  },
  {
   "cell_type": "code",
   "execution_count": 16,
   "id": "11e4d559",
   "metadata": {},
   "outputs": [
    {
     "data": {
      "text/plain": [
       "array(['05/2012', '03/2012', '04/2012', '02/2012'], dtype=object)"
      ]
     },
     "execution_count": 16,
     "metadata": {},
     "output_type": "execute_result"
    }
   ],
   "source": [
    "data1['first_payment_date'].unique()"
   ]
  },
  {
   "cell_type": "code",
   "execution_count": 17,
   "id": "751b6558",
   "metadata": {},
   "outputs": [],
   "source": [
    "data1['first_payment_date']=pd.to_datetime(data1['first_payment_date'])"
   ]
  },
  {
   "cell_type": "code",
   "execution_count": 18,
   "id": "3127ae4f",
   "metadata": {},
   "outputs": [
    {
     "data": {
      "text/plain": [
       "0         2012\n",
       "1         2012\n",
       "2         2012\n",
       "3         2012\n",
       "4         2012\n",
       "          ... \n",
       "116053    2012\n",
       "116054    2012\n",
       "116055    2012\n",
       "116056    2012\n",
       "116057    2012\n",
       "Name: first_payment_year, Length: 116058, dtype: int64"
      ]
     },
     "execution_count": 18,
     "metadata": {},
     "output_type": "execute_result"
    }
   ],
   "source": [
    "data1['first_payment_year']=data1['first_payment_date'].dt.year\n",
    "data1['first_payment_year']"
   ]
  },
  {
   "cell_type": "code",
   "execution_count": 19,
   "id": "f3ab4cc5",
   "metadata": {},
   "outputs": [],
   "source": [
    "data1['first_payment_month']=data1['first_payment_date'].dt.month"
   ]
  },
  {
   "cell_type": "code",
   "execution_count": 20,
   "id": "09ab6c49",
   "metadata": {},
   "outputs": [],
   "source": [
    "data1.drop(['origination_date','first_payment_date'],axis=1,inplace=True)"
   ]
  },
  {
   "cell_type": "code",
   "execution_count": 21,
   "id": "80d87d24",
   "metadata": {},
   "outputs": [
    {
     "data": {
      "text/plain": [
       "source                        int32\n",
       "interest_rate               float64\n",
       "unpaid_principal_bal          int64\n",
       "loan_term                     int64\n",
       "loan_to_value                 int64\n",
       "number_of_borrowers         float64\n",
       "debt_to_income_ratio        float64\n",
       "borrower_credit_score       float64\n",
       "loan_purpose                  int32\n",
       "insurance_percent           float64\n",
       "co-borrower_credit_score    float64\n",
       "insurance_type              float64\n",
       "m1                            int64\n",
       "m2                            int64\n",
       "m3                            int64\n",
       "m4                            int64\n",
       "m5                            int64\n",
       "m6                            int64\n",
       "m7                            int64\n",
       "m8                            int64\n",
       "m9                            int64\n",
       "m10                           int64\n",
       "m11                           int64\n",
       "m12                           int64\n",
       "m13                           int64\n",
       "origination_date_year         int64\n",
       "origination_date_month        int64\n",
       "origination_date_day          int64\n",
       "first_payment_year            int64\n",
       "first_payment_month           int64\n",
       "dtype: object"
      ]
     },
     "execution_count": 21,
     "metadata": {},
     "output_type": "execute_result"
    }
   ],
   "source": [
    "# Data Types\n",
    "data1.dtypes"
   ]
  },
  {
   "cell_type": "code",
   "execution_count": 22,
   "id": "bebd7deb",
   "metadata": {},
   "outputs": [
    {
     "data": {
      "text/plain": [
       "array([1, 0], dtype=int64)"
      ]
     },
     "execution_count": 22,
     "metadata": {},
     "output_type": "execute_result"
    }
   ],
   "source": [
    "data1['m13'].unique()"
   ]
  },
  {
   "cell_type": "code",
   "execution_count": null,
   "id": "54d03906",
   "metadata": {},
   "outputs": [],
   "source": [
    "# m13 is the Target variable.Our target is to predict whether the borrower/borrowers has/have repaid the loan in the 13th month"
   ]
  },
  {
   "cell_type": "code",
   "execution_count": 23,
   "id": "40a32d34",
   "metadata": {},
   "outputs": [
    {
     "data": {
      "text/plain": [
       "<AxesSubplot:>"
      ]
     },
     "execution_count": 23,
     "metadata": {},
     "output_type": "execute_result"
    },
    {
     "data": {
      "image/png": "[encoded data removed]",
      "text/plain": [
       "<Figure size 1656x720 with 2 Axes>"
      ]
     },
     "metadata": {
      "needs_background": "light"
     },
     "output_type": "display_data"
    }
   ],
   "source": [
    "# Correlation Matrix\n",
    "corrmatrix=data.corr()\n",
    "plt.subplots(figsize=(23,10))\n",
    "sns.heatmap(corrmatrix,annot=True,cmap='BuGn')"
   ]
  },
  {
   "cell_type": "code",
   "execution_count": null,
   "id": "6384393b",
   "metadata": {},
   "outputs": [],
   "source": [
    "# Correlation matrix shows that the features, number_of_borrowers and co-borrower_credit_score have high positive \n",
    "# correlation (correlation coefficient=1).But both are less (negative) correlated with the target variable,m13.\n",
    "# So inorder to avoid multicollinearity, we can drop any one of these features.Hence dropping the column,\n",
    "# co-borrower_credit_score"
   ]
  },
  {
   "cell_type": "code",
   "execution_count": 24,
   "id": "1b4c4a97",
   "metadata": {},
   "outputs": [],
   "source": [
    "data1.drop('co-borrower_credit_score',axis=1,inplace=True)"
   ]
  },
  {
   "cell_type": "code",
   "execution_count": 25,
   "id": "f259ccf6",
   "metadata": {},
   "outputs": [
    {
     "data": {
      "text/plain": [
       "(116058, 29)"
      ]
     },
     "execution_count": 25,
     "metadata": {},
     "output_type": "execute_result"
    }
   ],
   "source": [
    "# Shape of data1\n",
    "data1.shape"
   ]
  },
  {
   "cell_type": "code",
   "execution_count": 26,
   "id": "0bb92c17",
   "metadata": {},
   "outputs": [],
   "source": [
    "# Splitting into Features and Target\n",
    "X=data1.drop('m13',axis=1)\n",
    "y=data1['m13']"
   ]
  },
  {
   "cell_type": "markdown",
   "id": "1d2f93be",
   "metadata": {},
   "source": [
    "# Model"
   ]
  },
  {
   "cell_type": "code",
   "execution_count": 27,
   "id": "ccb2d7d1",
   "metadata": {},
   "outputs": [],
   "source": [
    "# Splitting into train and test data\n",
    "from sklearn.model_selection import train_test_split\n",
    "X_train,X_test,y_train,y_test=train_test_split(X,y,random_state=42,test_size=.2)"
   ]
  },
  {
   "cell_type": "markdown",
   "id": "3968d827",
   "metadata": {},
   "source": [
    "# Creating Logistic Regression Model"
   ]
  },
  {
   "cell_type": "code",
   "execution_count": 28,
   "id": "2696639d",
   "metadata": {},
   "outputs": [],
   "source": [
    "from sklearn.linear_model import LogisticRegression"
   ]
  },
  {
   "cell_type": "code",
   "execution_count": 29,
   "id": "56fced73",
   "metadata": {},
   "outputs": [],
   "source": [
    "lr=LogisticRegression().fit(X_train,y_train)\n",
    "y_pred_log=lr.predict(X_test)"
   ]
  },
  {
   "cell_type": "code",
   "execution_count": 30,
   "id": "3cc198f5",
   "metadata": {},
   "outputs": [],
   "source": [
    "from sklearn.metrics import confusion_matrix,accuracy_score"
   ]
  },
  {
   "cell_type": "code",
   "execution_count": 31,
   "id": "944b500f",
   "metadata": {},
   "outputs": [
    {
     "name": "stdout",
     "output_type": "stream",
     "text": [
      "Confusion matrix is :\n",
      " [[23075     9]\n",
      " [  128     0]]\n"
     ]
    }
   ],
   "source": [
    "print('Confusion matrix is :\\n',confusion_matrix(y_test,y_pred_log))"
   ]
  },
  {
   "cell_type": "code",
   "execution_count": 32,
   "id": "eaa59c5a",
   "metadata": {},
   "outputs": [
    {
     "name": "stdout",
     "output_type": "stream",
     "text": [
      "Accuracy score is : 0.9940978804066862\n"
     ]
    }
   ],
   "source": [
    "print('Accuracy score is :',accuracy_score(y_test,y_pred_log))"
   ]
  },
  {
   "cell_type": "markdown",
   "id": "cb8d728e",
   "metadata": {},
   "source": [
    "# Creating kNN Model"
   ]
  },
  {
   "cell_type": "code",
   "execution_count": 33,
   "id": "1838d535",
   "metadata": {},
   "outputs": [],
   "source": [
    "from sklearn.neighbors import KNeighborsClassifier"
   ]
  },
  {
   "cell_type": "code",
   "execution_count": 34,
   "id": "0abd8a8f",
   "metadata": {},
   "outputs": [],
   "source": [
    "# Finding the optimum k value\n",
    "metric_k=[]\n",
    "neighbors=range(3,11)\n",
    "\n",
    "for k in neighbors:\n",
    "    knn=KNeighborsClassifier(n_neighbors=k).fit(X_train,y_train)\n",
    "    y_pred_knn=knn.predict(X_test)\n",
    "    acc=accuracy_score(y_test,y_pred_knn)\n",
    "    metric_k.append(acc)"
   ]
  },
  {
   "cell_type": "code",
   "execution_count": 35,
   "id": "d7f951f5",
   "metadata": {},
   "outputs": [
    {
     "data": {
      "text/plain": [
       "[0.9939686369119421,\n",
       " 0.9944425297260038,\n",
       " 0.9943994485610891,\n",
       " 0.9944856108909185,\n",
       " 0.9944425297260038,\n",
       " 0.9944856108909185,\n",
       " 0.9944856108909185,\n",
       " 0.9944856108909185]"
      ]
     },
     "execution_count": 35,
     "metadata": {},
     "output_type": "execute_result"
    }
   ],
   "source": [
    "metric_k"
   ]
  },
  {
   "cell_type": "code",
   "execution_count": 36,
   "id": "f5205187",
   "metadata": {},
   "outputs": [
    {
     "data": {
      "image/png": "[encoded data removed]",
      "text/plain": [
       "<Figure size 432x288 with 1 Axes>"
      ]
     },
     "metadata": {
      "needs_background": "light"
     },
     "output_type": "display_data"
    }
   ],
   "source": [
    "plt.plot(neighbors,metric_k,'o-')\n",
    "plt.xlabel('k values')\n",
    "plt.ylabel('Accuracies')\n",
    "plt.title('k values and Accuracies')\n",
    "plt.grid()\n",
    "plt.show()"
   ]
  },
  {
   "cell_type": "code",
   "execution_count": 37,
   "id": "25a32d0e",
   "metadata": {},
   "outputs": [],
   "source": [
    "# When k=6\n",
    "knn=KNeighborsClassifier(n_neighbors=6).fit(X_train,y_train)\n",
    "y_pred_knn=knn.predict(X_test)"
   ]
  },
  {
   "cell_type": "code",
   "execution_count": 38,
   "id": "060a5314",
   "metadata": {},
   "outputs": [
    {
     "data": {
      "text/plain": [
       "array([[23084,     0],\n",
       "       [  128,     0]], dtype=int64)"
      ]
     },
     "execution_count": 38,
     "metadata": {},
     "output_type": "execute_result"
    }
   ],
   "source": [
    "confusion_matrix(y_test,y_pred_knn)"
   ]
  },
  {
   "cell_type": "code",
   "execution_count": 39,
   "id": "3be3b688",
   "metadata": {},
   "outputs": [
    {
     "data": {
      "text/plain": [
       "0.9944856108909185"
      ]
     },
     "execution_count": 39,
     "metadata": {},
     "output_type": "execute_result"
    }
   ],
   "source": [
    "accuracy_score(y_test,y_pred_knn)"
   ]
  },
  {
   "cell_type": "markdown",
   "id": "7da4ecf1",
   "metadata": {},
   "source": [
    "# Support Vector Machine (kernel=RBF)"
   ]
  },
  {
   "cell_type": "code",
   "execution_count": null,
   "id": "84e442a7",
   "metadata": {},
   "outputs": [],
   "source": [
    "# Can't execute the code for SVM(kernel='linear') model"
   ]
  },
  {
   "cell_type": "code",
   "execution_count": 40,
   "id": "1a92fca5",
   "metadata": {},
   "outputs": [],
   "source": [
    "from sklearn.svm import SVC"
   ]
  },
  {
   "cell_type": "code",
   "execution_count": 41,
   "id": "ec1492e1",
   "metadata": {},
   "outputs": [],
   "source": [
    "svm=SVC(kernel='rbf').fit(X_train,y_train)\n",
    "y_pred_svm=svm.predict(X_test)"
   ]
  },
  {
   "cell_type": "code",
   "execution_count": 42,
   "id": "e0d5dbd3",
   "metadata": {},
   "outputs": [
    {
     "data": {
      "text/plain": [
       "array([[23084,     0],\n",
       "       [  128,     0]], dtype=int64)"
      ]
     },
     "execution_count": 42,
     "metadata": {},
     "output_type": "execute_result"
    }
   ],
   "source": [
    "confusion_matrix(y_test,y_pred_svm)"
   ]
  },
  {
   "cell_type": "code",
   "execution_count": 43,
   "id": "ca21eb67",
   "metadata": {},
   "outputs": [
    {
     "data": {
      "text/plain": [
       "0.9944856108909185"
      ]
     },
     "execution_count": 43,
     "metadata": {},
     "output_type": "execute_result"
    }
   ],
   "source": [
    "accuracy_score(y_test,y_pred_svm)"
   ]
  },
  {
   "cell_type": "markdown",
   "id": "14432acb",
   "metadata": {},
   "source": [
    "# Creating Decision Tree Classifier Model"
   ]
  },
  {
   "cell_type": "code",
   "execution_count": 44,
   "id": "7b8eff00",
   "metadata": {},
   "outputs": [],
   "source": [
    "from sklearn.tree import DecisionTreeClassifier"
   ]
  },
  {
   "cell_type": "code",
   "execution_count": 45,
   "id": "eb988bd0",
   "metadata": {},
   "outputs": [],
   "source": [
    "dtc=DecisionTreeClassifier().fit(X_train,y_train)\n",
    "y_pred_dtc=dtc.predict(X_test)"
   ]
  },
  {
   "cell_type": "code",
   "execution_count": 46,
   "id": "13970e95",
   "metadata": {},
   "outputs": [
    {
     "data": {
      "text/plain": [
       "array([[22975,   109],\n",
       "       [   80,    48]], dtype=int64)"
      ]
     },
     "execution_count": 46,
     "metadata": {},
     "output_type": "execute_result"
    }
   ],
   "source": [
    "confusion_matrix(y_test,y_pred_dtc)"
   ]
  },
  {
   "cell_type": "code",
   "execution_count": 47,
   "id": "1325ebe7",
   "metadata": {},
   "outputs": [
    {
     "data": {
      "text/plain": [
       "0.9918576598311218"
      ]
     },
     "execution_count": 47,
     "metadata": {},
     "output_type": "execute_result"
    }
   ],
   "source": [
    "accuracy_score(y_test,y_pred_dtc)"
   ]
  },
  {
   "cell_type": "markdown",
   "id": "00b24564",
   "metadata": {},
   "source": [
    "# Creating Random Forest Classifier Model"
   ]
  },
  {
   "cell_type": "code",
   "execution_count": 48,
   "id": "1dca89bd",
   "metadata": {},
   "outputs": [],
   "source": [
    "from sklearn.ensemble import RandomForestClassifier"
   ]
  },
  {
   "cell_type": "code",
   "execution_count": 49,
   "id": "5ed5dfc8",
   "metadata": {},
   "outputs": [],
   "source": [
    "rfc=RandomForestClassifier().fit(X_train,y_train)\n",
    "y_pred_rfc=rfc.predict(X_test)"
   ]
  },
  {
   "cell_type": "code",
   "execution_count": 50,
   "id": "05297a10",
   "metadata": {},
   "outputs": [
    {
     "data": {
      "text/plain": [
       "array([[23073,    11],\n",
       "       [   84,    44]], dtype=int64)"
      ]
     },
     "execution_count": 50,
     "metadata": {},
     "output_type": "execute_result"
    }
   ],
   "source": [
    "confusion_matrix(y_test,y_pred_rfc)"
   ]
  },
  {
   "cell_type": "code",
   "execution_count": 51,
   "id": "5d7be9a8",
   "metadata": {
    "scrolled": true
   },
   "outputs": [
    {
     "data": {
      "text/plain": [
       "0.9959072893331036"
      ]
     },
     "execution_count": 51,
     "metadata": {},
     "output_type": "execute_result"
    }
   ],
   "source": [
    "accuracy_score(y_test,y_pred_rfc)"
   ]
  },
  {
   "cell_type": "code",
   "execution_count": null,
   "id": "10d3898b",
   "metadata": {},
   "outputs": [],
   "source": [
    "# The Classification models,Logistic Regression,kNN,SVM(kernel='rbf'),Decision Tree Classifier and Random Forest Classifier\n",
    "# have high accuracy score of more than 99%. Among these,Random Forest Classifier has an accuracy score of 0.995907 which is\n",
    "# the highest"
   ]
  },
  {
   "cell_type": "markdown",
   "id": "cfbceb25",
   "metadata": {},
   "source": [
    "# Min Max Scaling features to create SVM (kernel='linear')model"
   ]
  },
  {
   "cell_type": "code",
   "execution_count": 52,
   "id": "109447df",
   "metadata": {},
   "outputs": [],
   "source": [
    "X=data1.drop('m13',axis=1)\n",
    "y=data1['m13']"
   ]
  },
  {
   "cell_type": "code",
   "execution_count": 53,
   "id": "2eb10bf2",
   "metadata": {},
   "outputs": [],
   "source": [
    "X1=X.drop(['source','loan_purpose'],axis=1)"
   ]
  },
  {
   "cell_type": "code",
   "execution_count": 54,
   "id": "e61c425e",
   "metadata": {},
   "outputs": [
    {
     "data": {
      "text/plain": [
       "Index(['interest_rate', 'unpaid_principal_bal', 'loan_term', 'loan_to_value',\n",
       "       'number_of_borrowers', 'debt_to_income_ratio', 'borrower_credit_score',\n",
       "       'insurance_percent', 'insurance_type', 'm1', 'm2', 'm3', 'm4', 'm5',\n",
       "       'm6', 'm7', 'm8', 'm9', 'm10', 'm11', 'm12', 'origination_date_year',\n",
       "       'origination_date_month', 'origination_date_day', 'first_payment_year',\n",
       "       'first_payment_month'],\n",
       "      dtype='object')"
      ]
     },
     "execution_count": 54,
     "metadata": {},
     "output_type": "execute_result"
    }
   ],
   "source": [
    "X1.columns"
   ]
  },
  {
   "cell_type": "code",
   "execution_count": 55,
   "id": "99d18b29",
   "metadata": {},
   "outputs": [],
   "source": [
    "from sklearn.preprocessing import MinMaxScaler"
   ]
  },
  {
   "cell_type": "code",
   "execution_count": 56,
   "id": "54a089a0",
   "metadata": {},
   "outputs": [],
   "source": [
    "min_max=MinMaxScaler(feature_range=(0,1))"
   ]
  },
  {
   "cell_type": "code",
   "execution_count": 57,
   "id": "b169e70b",
   "metadata": {},
   "outputs": [],
   "source": [
    "X1=min_max.fit_transform(X1)"
   ]
  },
  {
   "cell_type": "code",
   "execution_count": 58,
   "id": "4bdf6ab1",
   "metadata": {},
   "outputs": [],
   "source": [
    "X1=pd.DataFrame(X1,columns=['interest_rate','unpaid_principal_bal','loan_term','loan_to_value',\n",
    "       'number_of_borrowers','debt_to_income_ratio','borrower_credit_score',\n",
    "       'insurance_percent','insurance_type','m1','m2','m3','m4','m5',\n",
    "       'm6','m7','m8','m9','m10','m11','m12','origination_date_year',\n",
    "       'origination_date_month','origination_date_day','first_payment_year',\n",
    "       'first_payment_month'])"
   ]
  },
  {
   "cell_type": "code",
   "execution_count": 59,
   "id": "7433268d",
   "metadata": {},
   "outputs": [],
   "source": [
    "X.drop(['interest_rate','unpaid_principal_bal','loan_term','loan_to_value',\n",
    "       'number_of_borrowers','debt_to_income_ratio','borrower_credit_score',\n",
    "       'insurance_percent','insurance_type','m1','m2','m3','m4','m5',\n",
    "       'm6','m7','m8','m9','m10','m11','m12','origination_date_year',\n",
    "       'origination_date_month','origination_date_day','first_payment_year',\n",
    "       'first_payment_month'],axis=1,inplace=True)"
   ]
  },
  {
   "cell_type": "code",
   "execution_count": 60,
   "id": "43956fa1",
   "metadata": {},
   "outputs": [],
   "source": [
    "X=pd.concat([X,X1],axis=1)"
   ]
  },
  {
   "cell_type": "code",
   "execution_count": 61,
   "id": "41c0a7e7",
   "metadata": {},
   "outputs": [
    {
     "data": {
      "text/html": [
       "<div>\n",
       "<style scoped>\n",
       "    .dataframe tbody tr th:only-of-type {\n",
       "        vertical-align: middle;\n",
       "    }\n",
       "\n",
       "    .dataframe tbody tr th {\n",
       "        vertical-align: top;\n",
       "    }\n",
       "\n",
       "    .dataframe thead th {\n",
       "        text-align: right;\n",
       "    }\n",
       "</style>\n",
       "<table border=\"1\" class=\"dataframe\">\n",
       "  <thead>\n",
       "    <tr style=\"text-align: right;\">\n",
       "      <th></th>\n",
       "      <th>source</th>\n",
       "      <th>loan_purpose</th>\n",
       "      <th>interest_rate</th>\n",
       "      <th>unpaid_principal_bal</th>\n",
       "      <th>loan_term</th>\n",
       "      <th>loan_to_value</th>\n",
       "      <th>number_of_borrowers</th>\n",
       "      <th>debt_to_income_ratio</th>\n",
       "      <th>borrower_credit_score</th>\n",
       "      <th>insurance_percent</th>\n",
       "      <th>...</th>\n",
       "      <th>m8</th>\n",
       "      <th>m9</th>\n",
       "      <th>m10</th>\n",
       "      <th>m11</th>\n",
       "      <th>m12</th>\n",
       "      <th>origination_date_year</th>\n",
       "      <th>origination_date_month</th>\n",
       "      <th>origination_date_day</th>\n",
       "      <th>first_payment_year</th>\n",
       "      <th>first_payment_month</th>\n",
       "    </tr>\n",
       "  </thead>\n",
       "  <tbody>\n",
       "    <tr>\n",
       "      <th>0</th>\n",
       "      <td>2</td>\n",
       "      <td>2</td>\n",
       "      <td>0.444444</td>\n",
       "      <td>0.170732</td>\n",
       "      <td>1.0</td>\n",
       "      <td>0.978022</td>\n",
       "      <td>0.0</td>\n",
       "      <td>0.333333</td>\n",
       "      <td>0.826190</td>\n",
       "      <td>0.75</td>\n",
       "      <td>...</td>\n",
       "      <td>0.0</td>\n",
       "      <td>0.000000</td>\n",
       "      <td>0.000000</td>\n",
       "      <td>0.000000</td>\n",
       "      <td>0.000000</td>\n",
       "      <td>0.0</td>\n",
       "      <td>1.0</td>\n",
       "      <td>0.0</td>\n",
       "      <td>0.0</td>\n",
       "      <td>1.000000</td>\n",
       "    </tr>\n",
       "    <tr>\n",
       "      <th>1</th>\n",
       "      <td>1</td>\n",
       "      <td>1</td>\n",
       "      <td>0.583333</td>\n",
       "      <td>0.111859</td>\n",
       "      <td>1.0</td>\n",
       "      <td>0.725275</td>\n",
       "      <td>0.0</td>\n",
       "      <td>0.682540</td>\n",
       "      <td>0.829762</td>\n",
       "      <td>0.00</td>\n",
       "      <td>...</td>\n",
       "      <td>0.0</td>\n",
       "      <td>0.000000</td>\n",
       "      <td>0.000000</td>\n",
       "      <td>0.076923</td>\n",
       "      <td>0.000000</td>\n",
       "      <td>0.0</td>\n",
       "      <td>0.0</td>\n",
       "      <td>0.0</td>\n",
       "      <td>0.0</td>\n",
       "      <td>0.333333</td>\n",
       "    </tr>\n",
       "    <tr>\n",
       "      <th>2</th>\n",
       "      <td>2</td>\n",
       "      <td>1</td>\n",
       "      <td>0.222222</td>\n",
       "      <td>0.298570</td>\n",
       "      <td>0.4</td>\n",
       "      <td>0.472527</td>\n",
       "      <td>0.0</td>\n",
       "      <td>0.507937</td>\n",
       "      <td>0.928571</td>\n",
       "      <td>0.00</td>\n",
       "      <td>...</td>\n",
       "      <td>0.0</td>\n",
       "      <td>0.000000</td>\n",
       "      <td>0.000000</td>\n",
       "      <td>0.000000</td>\n",
       "      <td>0.000000</td>\n",
       "      <td>0.0</td>\n",
       "      <td>0.0</td>\n",
       "      <td>0.0</td>\n",
       "      <td>0.0</td>\n",
       "      <td>0.333333</td>\n",
       "    </tr>\n",
       "    <tr>\n",
       "      <th>3</th>\n",
       "      <td>0</td>\n",
       "      <td>1</td>\n",
       "      <td>0.555556</td>\n",
       "      <td>0.104289</td>\n",
       "      <td>1.0</td>\n",
       "      <td>0.439560</td>\n",
       "      <td>1.0</td>\n",
       "      <td>0.682540</td>\n",
       "      <td>0.753571</td>\n",
       "      <td>0.00</td>\n",
       "      <td>...</td>\n",
       "      <td>0.0</td>\n",
       "      <td>0.090909</td>\n",
       "      <td>0.083333</td>\n",
       "      <td>0.076923</td>\n",
       "      <td>0.071429</td>\n",
       "      <td>0.0</td>\n",
       "      <td>0.5</td>\n",
       "      <td>0.0</td>\n",
       "      <td>0.0</td>\n",
       "      <td>0.666667</td>\n",
       "    </tr>\n",
       "    <tr>\n",
       "      <th>4</th>\n",
       "      <td>0</td>\n",
       "      <td>2</td>\n",
       "      <td>0.555556</td>\n",
       "      <td>0.095038</td>\n",
       "      <td>1.0</td>\n",
       "      <td>0.813187</td>\n",
       "      <td>0.0</td>\n",
       "      <td>0.666667</td>\n",
       "      <td>0.810714</td>\n",
       "      <td>0.00</td>\n",
       "      <td>...</td>\n",
       "      <td>0.7</td>\n",
       "      <td>0.727273</td>\n",
       "      <td>0.750000</td>\n",
       "      <td>0.769231</td>\n",
       "      <td>0.785714</td>\n",
       "      <td>0.0</td>\n",
       "      <td>0.5</td>\n",
       "      <td>0.0</td>\n",
       "      <td>0.0</td>\n",
       "      <td>0.666667</td>\n",
       "    </tr>\n",
       "  </tbody>\n",
       "</table>\n",
       "<p>5 rows × 28 columns</p>\n",
       "</div>"
      ],
      "text/plain": [
       "   source  loan_purpose  interest_rate  unpaid_principal_bal  loan_term  \\\n",
       "0       2             2       0.444444              0.170732        1.0   \n",
       "1       1             1       0.583333              0.111859        1.0   \n",
       "2       2             1       0.222222              0.298570        0.4   \n",
       "3       0             1       0.555556              0.104289        1.0   \n",
       "4       0             2       0.555556              0.095038        1.0   \n",
       "\n",
       "   loan_to_value  number_of_borrowers  debt_to_income_ratio  \\\n",
       "0       0.978022                  0.0              0.333333   \n",
       "1       0.725275                  0.0              0.682540   \n",
       "2       0.472527                  0.0              0.507937   \n",
       "3       0.439560                  1.0              0.682540   \n",
       "4       0.813187                  0.0              0.666667   \n",
       "\n",
       "   borrower_credit_score  insurance_percent  ...   m8        m9       m10  \\\n",
       "0               0.826190               0.75  ...  0.0  0.000000  0.000000   \n",
       "1               0.829762               0.00  ...  0.0  0.000000  0.000000   \n",
       "2               0.928571               0.00  ...  0.0  0.000000  0.000000   \n",
       "3               0.753571               0.00  ...  0.0  0.090909  0.083333   \n",
       "4               0.810714               0.00  ...  0.7  0.727273  0.750000   \n",
       "\n",
       "        m11       m12  origination_date_year  origination_date_month  \\\n",
       "0  0.000000  0.000000                    0.0                     1.0   \n",
       "1  0.076923  0.000000                    0.0                     0.0   \n",
       "2  0.000000  0.000000                    0.0                     0.0   \n",
       "3  0.076923  0.071429                    0.0                     0.5   \n",
       "4  0.769231  0.785714                    0.0                     0.5   \n",
       "\n",
       "   origination_date_day  first_payment_year  first_payment_month  \n",
       "0                   0.0                 0.0             1.000000  \n",
       "1                   0.0                 0.0             0.333333  \n",
       "2                   0.0                 0.0             0.333333  \n",
       "3                   0.0                 0.0             0.666667  \n",
       "4                   0.0                 0.0             0.666667  \n",
       "\n",
       "[5 rows x 28 columns]"
      ]
     },
     "execution_count": 61,
     "metadata": {},
     "output_type": "execute_result"
    }
   ],
   "source": [
    "X.head()"
   ]
  },
  {
   "cell_type": "markdown",
   "id": "62c2d845",
   "metadata": {},
   "source": [
    "# Model"
   ]
  },
  {
   "cell_type": "code",
   "execution_count": 62,
   "id": "859b0862",
   "metadata": {},
   "outputs": [],
   "source": [
    "# Splitting into train and test data\n",
    "X_train,X_test,y_train,y_test=train_test_split(X,y,random_state=42,test_size=0.2)"
   ]
  },
  {
   "cell_type": "markdown",
   "id": "a0ea6303",
   "metadata": {},
   "source": [
    "# Creating SVM (kernel='linear') Model after MinMax Scaling"
   ]
  },
  {
   "cell_type": "code",
   "execution_count": 63,
   "id": "e750e6ab",
   "metadata": {},
   "outputs": [],
   "source": [
    "from sklearn.svm import SVC"
   ]
  },
  {
   "cell_type": "code",
   "execution_count": 64,
   "id": "4deac859",
   "metadata": {},
   "outputs": [],
   "source": [
    "svm1=SVC(kernel='linear').fit(X_train,y_train)\n",
    "y_pred_svm1=svm1.predict(X_test)"
   ]
  },
  {
   "cell_type": "code",
   "execution_count": 65,
   "id": "e6527444",
   "metadata": {},
   "outputs": [
    {
     "data": {
      "text/plain": [
       "array([[23084,     0],\n",
       "       [  103,    25]], dtype=int64)"
      ]
     },
     "execution_count": 65,
     "metadata": {},
     "output_type": "execute_result"
    }
   ],
   "source": [
    "confusion_matrix(y_test,y_pred_svm1)"
   ]
  },
  {
   "cell_type": "code",
   "execution_count": 66,
   "id": "a1549e37",
   "metadata": {},
   "outputs": [
    {
     "data": {
      "text/plain": [
       "0.995562640013786"
      ]
     },
     "execution_count": 66,
     "metadata": {},
     "output_type": "execute_result"
    }
   ],
   "source": [
    "accuracy_score(y_test,y_pred_svm1)"
   ]
  },
  {
   "cell_type": "code",
   "execution_count": null,
   "id": "4e8f57e0",
   "metadata": {},
   "outputs": [],
   "source": [
    "# SVM(kernel=linear) model was able to create after Scaling with an accuracy score of 99.556%"
   ]
  }
 ],
 "metadata": {
  "kernelspec": {
   "display_name": "Python 3 (ipykernel)",
   "language": "python",
   "name": "python3"
  },
  "language_info": {
   "codemirror_mode": {
    "name": "ipython",
    "version": 3
   },
   "file_extension": ".py",
   "mimetype": "text/x-python",
   "name": "python",
   "nbconvert_exporter": "python",
   "pygments_lexer": "ipython3",
   "version": "3.9.12"
  }
 },
 "nbformat": 4,
 "nbformat_minor": 5
}
